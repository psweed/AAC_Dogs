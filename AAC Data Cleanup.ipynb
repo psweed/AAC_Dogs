{
 "cells": [
  {
   "cell_type": "markdown",
   "metadata": {},
   "source": [
    "## Data Cleanup\n",
    "\n",
    "The Austin Animal Center publishes daily data containing shelter animals processed through the shelter, various characteristics of the animal, and their outcomes. This notebook is used to clean the data in a format used for analysis. Note feature engineering is applied to the data. <br><br>\n",
    "\n",
    "Data source: https://data.austintexas.gov/Health-and-Community-Services/Austin-Animal-Center-Outcomes/9t4d-g238 <br><br>\n",
    "\n",
    "There was a Kaggle competition based on a similar dataset. The dataset provided from the website provides more data, including the date of birth of the animal and more observations. <br><br>\n",
    "\n",
    "Kaggle competition: https://www.kaggle.com/c/shelter-animal-outcomes/data <br><br>\n",
    "\n",
    "Note that there is a lot of data given that couldn't possible be known when an animal is processed into the animal shelter e.g. the day and time of the outcome. Although these can be useful pieces of information (e.g. during what month are adoptions most likely to happen?), we will focus our analysis on characteristics of the dog that would be known near the time of intake. We do wish that the day and time the animal was processed into the shelter was provided."
   ]
  },
  {
   "cell_type": "code",
   "execution_count": null,
   "metadata": {},
   "outputs": [],
   "source": [
    "#Import relevant packages.\n",
    "import pandas as pd"
   ]
  },
  {
   "cell_type": "code",
   "execution_count": null,
   "metadata": {},
   "outputs": [],
   "source": [
    "#Read the data.\n",
    "dataset = pd.read_csv(r\"C:\\Users\\Patrick\\Desktop\\ShelterOutcomes2\\Austin_Animal_Center_Outcomes.csv\")\n",
    "\n",
    "#Only dogs are considered in this study.\n",
    "dataset = dataset[dataset['Animal Type'] == 'Dog']\n",
    "\n",
    "#Keep only the year of birth of the dog.\n",
    "dataset['Year of Birth'] = dataset['Date of Birth'].map(lambda x: x[-4:])\n",
    "\n",
    "#Separate the spay/neuter status and the sex of the dog.\n",
    "dataset['Sex upon Outcome'] = dataset['Sex upon Outcome'].map(lambda x: 'Unknown Unknown' if x == 'Unknown' else x)\n",
    "split = dataset['Sex upon Outcome'].str.split(pat = \" \", n = 1, expand = True)\n",
    "dataset['Altered'] = split[0].map(lambda x: 'Altered' if x == 'Neutered' or x == 'Spayed' else x)\n",
    "dataset['Sex'] = split[1]\n",
    "\n",
    "#Drop data that is missing outcome types; there are only three of them.\n",
    "dataset = dataset[pd.notna(dataset['Outcome Type'])]\n",
    "\n",
    "#Drop data that won't be used in our analysis.\n",
    "to_drop = ['DateTime', 'MonthYear', 'Age upon Outcome', 'Animal Type', 'Outcome Subtype', 'Date of Birth', 'Sex upon Outcome']\n",
    "for col in to_drop:\n",
    "    dataset.drop(col, axis = 1, inplace = True)"
   ]
  },
  {
   "cell_type": "code",
   "execution_count": null,
   "metadata": {},
   "outputs": [],
   "source": [
    "#Export the data\n",
    "dataset.to_csv(path_or_buf = r\"C:\\Users\\Patrick\\Desktop\\ShelterOutcomes2\\Austin_Animal_Center_Outcomes_clean.csv\"\n",
    "               , index = False)"
   ]
  }
 ],
 "metadata": {
  "kernelspec": {
   "display_name": "Python 3",
   "language": "python",
   "name": "python3"
  },
  "language_info": {
   "codemirror_mode": {
    "name": "ipython",
    "version": 3
   },
   "file_extension": ".py",
   "mimetype": "text/x-python",
   "name": "python",
   "nbconvert_exporter": "python",
   "pygments_lexer": "ipython3",
   "version": "3.7.1"
  }
 },
 "nbformat": 4,
 "nbformat_minor": 2
}
